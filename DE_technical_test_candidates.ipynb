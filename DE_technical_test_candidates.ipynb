{
 "cells": [
  {
   "cell_type": "markdown",
   "id": "83523bbf",
   "metadata": {},
   "source": [
    "# Data Engineering Technical test\n",
    "\n",
    "Welcome to the techical test for Data Engineering. The setup of the test attempts to give guide rails for completing the exercise whilst leaving some appropriate room to demonstrate your POV on best practice and problem solving. If you wish to use other python libraries, than that is fine."
   ]
  },
  {
   "cell_type": "markdown",
   "id": "3d1b14c2",
   "metadata": {},
   "source": [
    "## Introduction\n",
    "For this technical test, we are going to use open source airbnb data for amsterdam available at the following URL:\n",
    "http://insideairbnb.com/get-the-data.html\n",
    "\n",
    "Over 3 parts, the test is intended to 'simulate' a brief end to end data engineering exercise, where we will test your data wrangling skills in both Python and SQL, to demonstrate your capability in those technologies. As the test is mean't simulate a real task, clearly you may utilise resources across the web to help you solve these tasks as you would day to day. \n",
    "\n",
    "Some that you may want to reference are below:\n",
    "\n",
    "https://pandas.pydata.org/docs/\n",
    "\n",
    "https://www.sqlite.org/lang.html"
   ]
  },
  {
   "cell_type": "markdown",
   "id": "fd15cae9",
   "metadata": {},
   "source": [
    "## Part 1: Python - Reading and exploring raw datasets\n",
    "In this section of the test we will be assessing your python skills. You should provide your coded, executable answers between the markers `#** Write your code here **#`"
   ]
  },
  {
   "cell_type": "code",
   "execution_count": null,
   "id": "f7e5b74c",
   "metadata": {},
   "outputs": [],
   "source": [
    "# Perform your python imports here\n",
    "import pandas as pd\n",
    "import sqlite3 as sql"
   ]
  },
  {
   "cell_type": "code",
   "execution_count": null,
   "id": "6eea2263",
   "metadata": {},
   "outputs": [],
   "source": [
    "# Use python or bash to download, unzip and read files from the following locations\n",
    "# http://data.insideairbnb.com/the-netherlands/north-holland/amsterdam/2021-04-09/data/listings.csv.gz\n",
    "# http://data.insideairbnb.com/the-netherlands/north-holland/amsterdam/2021-04-09/data/calendar.csv.gz\n",
    "# http://data.insideairbnb.com/the-netherlands/north-holland/amsterdam/2021-04-09/data/reviews.csv.gz\n",
    "\n",
    "# There are a number of ways of doing this, so only constraint is user is to end up with 3 datastructures \n",
    "# (we would recommend dataframes) that contain data from the three source files.\n",
    "\n",
    "#** Write your code here **#\n",
    "\n",
    "df_calendar = ### code here\n",
    "df_listings = ### code here\n",
    "df_reviews = ### code here\n",
    "\n",
    "#** Write your code here **#"
   ]
  },
  {
   "cell_type": "markdown",
   "id": "5bc2dcff",
   "metadata": {},
   "source": [
    "# Assessing and exploring the data\n",
    "Next we will perform a few common tasks on the data whilst it's still in python memory. Let's focus on the listings data in `df_listings`.\n",
    "\n",
    "Assess the following:\n",
    "- list metadata about the columns; their names and types.\n",
    "- generate a pandas style summary for the dataset.\n",
    "- count the number of rows in the dataframe.\n",
    "- find the number of missing values across the dataframe (NaN in numeric arrays, None or NaN in object arrays, NaT in datetime ).\n",
    "- assess which columns contain the missing values.\n",
    "- show the unique values in the column\n",
    "\n",
    "***The jupyter truncation of large answers is fine and candidates are not expected to set config to show every entry in answer. We are more interested in your approach than answer.***"
   ]
  },
  {
   "cell_type": "code",
   "execution_count": null,
   "id": "bb006f12",
   "metadata": {},
   "outputs": [],
   "source": [
    "# list metadata about the columns; their names and types.\n",
    "#** Write your code here **#\n",
    "\n",
    "\n",
    "#** Write your code here **#"
   ]
  },
  {
   "cell_type": "code",
   "execution_count": null,
   "id": "32700f7e",
   "metadata": {},
   "outputs": [],
   "source": [
    "# generate a summary for the dataset.\n",
    "#** Write your code here **#\n",
    "\n",
    "\n",
    "#** Write your code here **#"
   ]
  },
  {
   "cell_type": "code",
   "execution_count": null,
   "id": "e4615e2c",
   "metadata": {},
   "outputs": [],
   "source": [
    "# count the number of rows in the dataframe.\n",
    "#** Write your code here **#\n",
    "\n",
    "\n",
    "#** Write your code here **#"
   ]
  },
  {
   "cell_type": "code",
   "execution_count": null,
   "id": "eb2dffca",
   "metadata": {},
   "outputs": [],
   "source": [
    "# find the total number of missing values across the dataframe.\n",
    "#** Write your code here **#\n",
    "\n",
    "\n",
    "#** Write your code here **#"
   ]
  },
  {
   "cell_type": "code",
   "execution_count": null,
   "id": "d72ad09b",
   "metadata": {},
   "outputs": [],
   "source": [
    "# assess which columns contain the missing values.\n",
    "#** Write your code here **#\n",
    "\n",
    "\n",
    "#** Write your code here **#"
   ]
  },
  {
   "cell_type": "code",
   "execution_count": null,
   "id": "5484f6d7",
   "metadata": {},
   "outputs": [],
   "source": [
    "# show the unique values in the column host_name\n",
    "#** Write your code here **#\n",
    "\n",
    "\n",
    "#** Write your code here **#\n",
    "# repeat this command two cells below"
   ]
  },
  {
   "cell_type": "code",
   "execution_count": null,
   "id": "23fc15ca",
   "metadata": {},
   "outputs": [],
   "source": [
    "# change all instances of the name Daniel for Danny and Alexander for Alex in the column host_name\n",
    "#** Write your code here **#\n",
    "\n",
    "\n",
    "#** Write your code here **#"
   ]
  },
  {
   "cell_type": "code",
   "execution_count": null,
   "id": "b4b9fc5f",
   "metadata": {},
   "outputs": [],
   "source": [
    "# Now repeat the command you used two cells above this to show the change has taken place in column host_name.\n",
    "#** Write your code here **#\n",
    "\n",
    "\n",
    "#** Write your code here **#"
   ]
  },
  {
   "cell_type": "markdown",
   "id": "9ee407b0",
   "metadata": {},
   "source": [
    "# Part 2. File formats\n",
    "In this section we briefly assess your understanding of modern data formats."
   ]
  },
  {
   "cell_type": "code",
   "execution_count": null,
   "id": "4ff437c8",
   "metadata": {},
   "outputs": [],
   "source": [
    "# convert df_calendar data to parquet file named df_calendar.parquet \n",
    "#** Write your code here **#\n",
    "\n",
    "\n",
    "#** Write your code here **#\n",
    "# Let's compare sizes of original csv and the parquet file.\n",
    "df_calendar.to_csv('df_calendar.csv')\n",
    "!ls -lh *calendar*"
   ]
  },
  {
   "cell_type": "markdown",
   "id": "5397a112",
   "metadata": {},
   "source": [
    "Briefly explain why there is likely a difference between the sizes of CSV and parquet in the box below."
   ]
  },
  {
   "cell_type": "code",
   "execution_count": null,
   "id": "e5cca179",
   "metadata": {},
   "outputs": [],
   "source": [
    "# Change this cell to markdown and write the answer below\n"
   ]
  },
  {
   "cell_type": "markdown",
   "id": "2938c616",
   "metadata": {},
   "source": [
    "# Part 3. Ingesting data into a database\n",
    "In this section of the test we are going to explore your SQL skills."
   ]
  },
  {
   "cell_type": "code",
   "execution_count": null,
   "id": "e647892d",
   "metadata": {},
   "outputs": [],
   "source": [
    "# first lets release memory from the previous python work and unzip and load our preprepared SQL lite database\n",
    "try:\n",
    "    del(df_calendar)\n",
    "    del(df_listings)\n",
    "    del(df_reviews)\n",
    "except NameError: pass\n",
    "\n",
    "!gunzip opensource_airbnb.db.gz\n",
    "conn = sql.connect('opensource_airbnb.db')"
   ]
  },
  {
   "cell_type": "markdown",
   "id": "4f54786e",
   "metadata": {},
   "source": [
    "We will use the Jupyter SQL magic to enable you to write vanilla SQL with little python wrap. https://github.com/catherinedevlin/ipython-sql. There is an example below."
   ]
  },
  {
   "cell_type": "code",
   "execution_count": null,
   "id": "a91c11ea",
   "metadata": {},
   "outputs": [],
   "source": [
    "# first load the sql magic extension.\n",
    "%load_ext sql"
   ]
  },
  {
   "cell_type": "markdown",
   "id": "b64486bd",
   "metadata": {},
   "source": [
    "Below we show a simple example of multiline sql with sql magic, where the first line connects to the database you've loaded data into and runs a basic query"
   ]
  },
  {
   "cell_type": "code",
   "execution_count": null,
   "id": "198feb9c",
   "metadata": {},
   "outputs": [],
   "source": [
    "%%sql sqlite:///opensource_airbnb.db\n",
    "    SELECT DISTINCT UPPER(property_type) as property_type \n",
    "    FROM listings \n",
    "    limit 5"
   ]
  },
  {
   "cell_type": "markdown",
   "id": "709fb605",
   "metadata": {},
   "source": [
    "## Exercises \n",
    "Now we would like you to write SQL to solve the two following problems"
   ]
  },
  {
   "cell_type": "markdown",
   "id": "d9ce92ab",
   "metadata": {},
   "source": [
    "**Problem 1** \n",
    "\n",
    "Output the Top 15 listings that accomodates 5-8 people and has the property type 'Boat', ordered by review_scores_cleanliness and has bucketed prices from '\\\\$0 - \\\\$100', '\\\\$100 - \\\\$200', '\\\\$200 - \\\\$300', '\\\\$300 - \\\\$400', '\\\\$400 - \\\\$500', '\\\\$500+'. Your result should include `id`, `listing_url`, `review_scores_cleanliness` and your `bucketed_price`. Use the `price` column for bucketing and use the following snippet to enable you to treat this column a numerical should you wish - `CAST(substr(price, 2) as REAL) as price_for_bucketing`."
   ]
  },
  {
   "cell_type": "code",
   "execution_count": null,
   "id": "300c935b",
   "metadata": {},
   "outputs": [],
   "source": [
    "%%sql sqlite:///opensource_airbnb.db\n",
    "    #** replace this with your SQL code **#"
   ]
  },
  {
   "cell_type": "markdown",
   "id": "4eda2434",
   "metadata": {},
   "source": [
    "**Problem 2** \n",
    "\n",
    "Find the `listing_id`, `host_name` as well as earliest available `date` and `price` of that date for the most reviewed listing in the data. That is the listing that has received the most reviews. It should return only one row."
   ]
  },
  {
   "cell_type": "code",
   "execution_count": null,
   "id": "b29b65a2",
   "metadata": {},
   "outputs": [],
   "source": [
    "%%sql sqlite:///opensource_airbnb.db\n",
    "    #** replace this with your SQL code **#"
   ]
  }
 ],
 "metadata": {
  "kernelspec": {
   "display_name": "conda_python3",
   "language": "python",
   "name": "conda_python3"
  },
  "language_info": {
   "codemirror_mode": {
    "name": "ipython",
    "version": 3
   },
   "file_extension": ".py",
   "mimetype": "text/x-python",
   "name": "python",
   "nbconvert_exporter": "python",
   "pygments_lexer": "ipython3",
   "version": "3.6.13"
  }
 },
 "nbformat": 4,
 "nbformat_minor": 5
}
